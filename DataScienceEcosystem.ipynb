{
 "cells": [
  {
   "cell_type": "markdown",
   "id": "445bc239-577b-42da-b2c7-2d66937516a2",
   "metadata": {
    "tags": []
   },
   "source": [
    "# Data Science Tools and Ecosystem"
   ]
  },
  {
   "cell_type": "markdown",
   "id": "395f5780-6bce-498b-8064-3a2a5053cfd8",
   "metadata": {
    "tags": []
   },
   "source": [
    "## In this notebook, Data Science Tools and Ecosystem are summarized."
   ]
  },
  {
   "cell_type": "markdown",
   "id": "d6a0e1fb-acfc-4dce-84e6-5bed536c74ef",
   "metadata": {
    "tags": []
   },
   "source": [
    "## Some of the popular languages that Data Scientists use are:\n",
    "1. Python\n",
    "2. R\n",
    "3. C++\n",
    "4. Java"
   ]
  },
  {
   "cell_type": "markdown",
   "id": "2ab4b929-93ea-43f0-8567-8537fb13129d",
   "metadata": {},
   "source": [
    "## Some of the commonly used libraries used by Data Scientists include:\n",
    "1. PyTorch\n",
    "2. Panda\n",
    "3. NumPy\n"
   ]
  },
  {
   "cell_type": "markdown",
   "id": "453f6caf-7e1f-4e17-a627-c0b42b34b8c9",
   "metadata": {
    "tags": []
   },
   "source": [
    "| Data Science Tools |\n",
    "|--------------------|\n",
    "| R Studio |\n",
    "| Jupyter Notebooks |\n",
    "| Visual Studio |"
   ]
  },
  {
   "cell_type": "markdown",
   "id": "7007a068-8dd7-41b8-9e8a-0aae0640afeb",
   "metadata": {},
   "source": [
    "### Below are a few examples of evaluating arithmetic expressions in Python"
   ]
  },
  {
   "cell_type": "markdown",
   "id": "4962cd25-37e8-4b0c-aa45-b4d0ba0a3f07",
   "metadata": {},
   "source": [
    "#### This a simple arithmetic expression to mutiply then add integers"
   ]
  },
  {
   "cell_type": "code",
   "execution_count": 13,
   "id": "eca8b455-057b-4149-996d-4d3ae6835870",
   "metadata": {
    "tags": []
   },
   "outputs": [
    {
     "data": {
      "text/plain": [
       "17"
      ]
     },
     "execution_count": 13,
     "metadata": {},
     "output_type": "execute_result"
    }
   ],
   "source": [
    "(3*4)+5"
   ]
  },
  {
   "cell_type": "markdown",
   "id": "8fe372ac-9ee5-403f-a68b-cec598171ea8",
   "metadata": {
    "tags": []
   },
   "source": [
    "#### This will convert 200 minutes to hours by diving by 60"
   ]
  },
  {
   "cell_type": "code",
   "execution_count": 15,
   "id": "4f7fbd8b-cc33-4f1b-9883-97e05f13c810",
   "metadata": {
    "tags": []
   },
   "outputs": [
    {
     "data": {
      "text/plain": [
       "3.3333333333333335"
      ]
     },
     "execution_count": 15,
     "metadata": {},
     "output_type": "execute_result"
    }
   ],
   "source": [
    "200/60"
   ]
  },
  {
   "cell_type": "markdown",
   "id": "ec7ddc10-c29d-4efc-a3f1-7f1568a460fb",
   "metadata": {},
   "source": [
    "**Objectives:**"
   ]
  },
  {
   "cell_type": "markdown",
   "id": "baddc7ab-0ec9-43ab-9d11-58a5bea648d1",
   "metadata": {},
   "source": [
    "* List popular languages for Data Science\n",
    "* Indicate three development environment open source tools used in data science\n",
    "* List commonly used libraries in data science"
   ]
  },
  {
   "cell_type": "markdown",
   "id": "ebdcac88-8b10-4343-8b95-9098009f994b",
   "metadata": {},
   "source": [
    "## Author"
   ]
  },
  {
   "cell_type": "markdown",
   "id": "52eb42ab-0873-4529-9919-d9ded66c1bb4",
   "metadata": {
    "tags": []
   },
   "source": [
    "Dan Isajevs"
   ]
  },
  {
   "cell_type": "code",
   "execution_count": null,
   "id": "bb82de05-4efc-4e46-91f6-2f98c4332068",
   "metadata": {},
   "outputs": [],
   "source": []
  }
 ],
 "metadata": {
  "kernelspec": {
   "display_name": "Python",
   "language": "python",
   "name": "conda-env-python-py"
  },
  "language_info": {
   "codemirror_mode": {
    "name": "ipython",
    "version": 3
   },
   "file_extension": ".py",
   "mimetype": "text/x-python",
   "name": "python",
   "nbconvert_exporter": "python",
   "pygments_lexer": "ipython3",
   "version": "3.7.12"
  }
 },
 "nbformat": 4,
 "nbformat_minor": 5
}
